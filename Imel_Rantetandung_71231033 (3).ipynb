{
  "nbformat": 4,
  "nbformat_minor": 0,
  "metadata": {
    "colab": {
      "provenance": []
    },
    "kernelspec": {
      "name": "python3",
      "display_name": "Python 3"
    },
    "language_info": {
      "name": "python"
    }
  },
  "cells": [
    {
      "cell_type": "code",
      "execution_count": null,
      "metadata": {
        "id": "Cf6Ukkk07y5k"
      },
      "outputs": [],
      "source": [
        "#SOAL NO.1\n",
        "from datetime import date\n",
        "import re\n",
        "\n",
        "def selisih_tanggal(teks):\n",
        "    hasil = re.findall('\\d+-[0-1][0-9]-[0-3][0-9]', teks)\n",
        "\n",
        "    for i in hasil:\n",
        "        try:\n",
        "            i = i.split('-')\n",
        "            selisih = date(2022, 6, 7) - date(int(i[0]), int(i[1]), int(i[2]))\n",
        "            selisih = selisih.days\n",
        "            tanggal = f'{i[2]}-{i[1]}-{i[0]}'\n",
        "            print(f'{tanggal} 00:00:00 selisih {selisih} hari')\n",
        "        except:\n",
        "            continue\n",
        "\n",
        "teks = '''Pada tanggal 1945-08-17 Indonesia merdeka. Indonesia memiliki beberapa pahlawan nasional,\n",
        "seperti Pangeran Diponegoro (TL: 1785-11-11), Pattimura (TL: 1783-06-08) dan Ki Hajar Dewantara (1889-05-02).'''\n",
        "selisih_tanggal(teks)"
      ]
    },
    {
      "cell_type": "code",
      "source": [
        "#SOAL NO.2\n",
        "import re\n",
        "import random\n",
        "import string\n",
        "\n",
        "def random_password():\n",
        "    huruf = string.ascii_letters\n",
        "    angka = string.digits\n",
        "    all = huruf + angka\n",
        "    temp = random.sample(all, 8)\n",
        "    password = \"\".join(temp)\n",
        "    return password\n",
        "\n",
        "def mencari_email(teks):\n",
        "    hasil = re.findall('\\w+@\\w+', teks)\n",
        "\n",
        "    for email in hasil:\n",
        "        x = email.split('@')\n",
        "        nama = x[0]\n",
        "        print(f'{email} \\t username: {nama} , password: {random_password()}')\n",
        "\n",
        "teks = '''Berikut adalah daftar email dan nama pengguna dari mailing list:\n",
        "anton@mail.com dimiliki oleh antonius\n",
        "budi@gmail.co.id dimiliki oleh budi anwari\n",
        "slamet@getnada.com dimiliki oleh slamet slumut\n",
        "matahari@tokopedia.com dimiliki oleh toko matahari'''\n",
        "mencari_email(teks)"
      ],
      "metadata": {
        "id": "OfdP6u3W8A2u"
      },
      "execution_count": null,
      "outputs": []
    }
  ]
}